{
 "cells": [
  {
   "cell_type": "markdown",
   "metadata": {
    "id": "GTEqqZMIiom-"
   },
   "source": [
    "#### Download data\n",
    "\n"
   ]
  },
  {
   "cell_type": "markdown",
   "metadata": {
    "id": "2XSU2sC0zj_q"
   },
   "source": [
    "1.   We will download the zip for the data in the repo\n",
    "2.   The database dataset contains the signatures of **260 persons**.\n",
    "3.   Out of 260, 100 were signed in **Bengali** and 160 are signed in **Hindi**.\n",
    "4.   For each signers, there are **24 genuine** and **30 forged** signatures available. \n",
    "5.   In Bengali, we have 2400 (100 x 24) genuine and 3000 (100 x 30) forged signatures.\n",
    "6.   In Hindi, we have 3840 (160 x 24) genuine 4800 (160 x 30) forged signatures."
   ]
  },
  {
   "cell_type": "code",
   "execution_count": null,
   "metadata": {
    "id": "TWu5sCKTn-wq"
   },
   "outputs": [],
   "source": [
    "#Install package\n",
    "!pip install googledrivedownloader --quiet"
   ]
  },
  {
   "cell_type": "code",
   "execution_count": null,
   "metadata": {
    "id": "SLOYv28B0ZMm"
   },
   "outputs": [],
   "source": [
    "from google_drive_downloader import GoogleDriveDownloader as gdd"
   ]
  },
  {
   "cell_type": "code",
   "execution_count": null,
   "metadata": {
    "colab": {
     "base_uri": "https://localhost:8080/",
     "height": 52
    },
    "id": "go2w2yTW1XRR",
    "outputId": "e753a7b4-50b9-4e05-edea-75985c05e48f"
   },
   "outputs": [
    {
     "name": "stdout",
     "output_type": "stream",
     "text": [
      "Downloading 0B29vNACcjvzVc1RfVkg5dUh2b1E into ./BHSig260.zip... Done.\n",
      "Unzipping...Done.\n"
     ]
    }
   ],
   "source": [
    "#Download file\n",
    "gdd.download_file_from_google_drive(file_id='0B29vNACcjvzVc1RfVkg5dUh2b1E', #file id as per link\n",
    "                                    dest_path='./BHSig260.zip', #File name given to downloaded file\n",
    "                                    unzip=True) #Unzip the downloaded file"
   ]
  },
  {
   "cell_type": "code",
   "execution_count": null,
   "metadata": {
    "colab": {
     "base_uri": "https://localhost:8080/",
     "height": 86
    },
    "id": "SvSAyKMj0o_t",
    "outputId": "291f84a0-e641-4c0e-f371-89b5939d14a1"
   },
   "outputs": [
    {
     "name": "stdout",
     "output_type": "stream",
     "text": [
      "total 47376\n",
      "drwxr-xr-x 4 root root     4096 Jul 18 13:23 BHSig260\n",
      "-rw-r--r-- 1 root root 48500114 Jul 18 13:23 BHSig260.zip\n",
      "drwxr-xr-x 1 root root     4096 Jul 10 16:29 sample_data\n"
     ]
    }
   ],
   "source": [
    "#Check if the file exists\n",
    "!ls -l"
   ]
  },
  {
   "cell_type": "code",
   "execution_count": null,
   "metadata": {
    "colab": {
     "base_uri": "https://localhost:8080/",
     "height": 69
    },
    "id": "q9WuX2d-864V",
    "outputId": "7a25a565-c012-4c9c-b3b8-86ea63e2f804"
   },
   "outputs": [
    {
     "name": "stdout",
     "output_type": "stream",
     "text": [
      "total 8\n",
      "drwxr-xr-x 102 root root 4096 Jul 18 13:24 Bengali\n",
      "drwxr-xr-x 162 root root 4096 Jul 18 13:24 Hindi\n"
     ]
    }
   ],
   "source": [
    "#Check dataset folder\n",
    "!ls -l BHSig260"
   ]
  },
  {
   "cell_type": "code",
   "execution_count": null,
   "metadata": {
    "colab": {
     "base_uri": "https://localhost:8080/",
     "height": 1000
    },
    "id": "QEjneSevCThU",
    "outputId": "2f52cf20-088a-4c65-c825-54f20462beac"
   },
   "outputs": [
    {
     "name": "stdout",
     "output_type": "stream",
     "text": [
      "total 1168\n",
      "drwxr-xr-x 2 root root   4096 Jul 18 13:23 001\n",
      "drwxr-xr-x 2 root root   4096 Jul 18 13:23 002\n",
      "drwxr-xr-x 2 root root   4096 Jul 18 13:23 003\n",
      "drwxr-xr-x 2 root root   4096 Jul 18 13:23 004\n",
      "drwxr-xr-x 2 root root   4096 Jul 18 13:23 005\n",
      "drwxr-xr-x 2 root root   4096 Jul 18 13:23 006\n",
      "drwxr-xr-x 2 root root   4096 Jul 18 13:23 007\n",
      "drwxr-xr-x 2 root root   4096 Jul 18 13:23 008\n",
      "drwxr-xr-x 2 root root   4096 Jul 18 13:23 009\n",
      "drwxr-xr-x 2 root root   4096 Jul 18 13:23 010\n",
      "drwxr-xr-x 2 root root   4096 Jul 18 13:23 011\n",
      "drwxr-xr-x 2 root root   4096 Jul 18 13:23 012\n",
      "drwxr-xr-x 2 root root   4096 Jul 18 13:23 013\n",
      "drwxr-xr-x 2 root root   4096 Jul 18 13:23 014\n",
      "drwxr-xr-x 2 root root   4096 Jul 18 13:23 015\n",
      "drwxr-xr-x 2 root root   4096 Jul 18 13:23 016\n",
      "drwxr-xr-x 2 root root   4096 Jul 18 13:23 017\n",
      "drwxr-xr-x 2 root root   4096 Jul 18 13:23 018\n",
      "drwxr-xr-x 2 root root   4096 Jul 18 13:23 019\n",
      "drwxr-xr-x 2 root root   4096 Jul 18 13:23 020\n",
      "drwxr-xr-x 2 root root   4096 Jul 18 13:23 021\n",
      "drwxr-xr-x 2 root root   4096 Jul 18 13:23 022\n",
      "drwxr-xr-x 2 root root   4096 Jul 18 13:23 023\n",
      "drwxr-xr-x 2 root root   4096 Jul 18 13:23 024\n",
      "drwxr-xr-x 2 root root   4096 Jul 18 13:23 025\n",
      "drwxr-xr-x 2 root root   4096 Jul 18 13:23 026\n",
      "drwxr-xr-x 2 root root   4096 Jul 18 13:23 027\n",
      "drwxr-xr-x 2 root root   4096 Jul 18 13:23 028\n",
      "drwxr-xr-x 2 root root   4096 Jul 18 13:23 029\n",
      "drwxr-xr-x 2 root root   4096 Jul 18 13:23 030\n",
      "drwxr-xr-x 2 root root   4096 Jul 18 13:23 031\n",
      "drwxr-xr-x 2 root root   4096 Jul 18 13:23 032\n",
      "drwxr-xr-x 2 root root   4096 Jul 18 13:23 033\n",
      "drwxr-xr-x 2 root root   4096 Jul 18 13:23 034\n",
      "drwxr-xr-x 2 root root   4096 Jul 18 13:23 035\n",
      "drwxr-xr-x 2 root root   4096 Jul 18 13:23 036\n",
      "drwxr-xr-x 2 root root   4096 Jul 18 13:23 037\n",
      "drwxr-xr-x 2 root root   4096 Jul 18 13:23 038\n",
      "drwxr-xr-x 2 root root   4096 Jul 18 13:23 039\n",
      "drwxr-xr-x 2 root root   4096 Jul 18 13:23 040\n",
      "drwxr-xr-x 2 root root   4096 Jul 18 13:23 041\n",
      "drwxr-xr-x 2 root root   4096 Jul 18 13:23 042\n",
      "drwxr-xr-x 2 root root   4096 Jul 18 13:23 043\n",
      "drwxr-xr-x 2 root root   4096 Jul 18 13:23 044\n",
      "drwxr-xr-x 2 root root   4096 Jul 18 13:23 045\n",
      "drwxr-xr-x 2 root root   4096 Jul 18 13:23 046\n",
      "drwxr-xr-x 2 root root   4096 Jul 18 13:23 047\n",
      "drwxr-xr-x 2 root root   4096 Jul 18 13:23 048\n",
      "drwxr-xr-x 2 root root   4096 Jul 18 13:23 049\n",
      "drwxr-xr-x 2 root root   4096 Jul 18 13:23 050\n",
      "drwxr-xr-x 2 root root   4096 Jul 18 13:23 051\n",
      "drwxr-xr-x 2 root root   4096 Jul 18 13:23 052\n",
      "drwxr-xr-x 2 root root   4096 Jul 18 13:23 053\n",
      "drwxr-xr-x 2 root root   4096 Jul 18 13:23 054\n",
      "drwxr-xr-x 2 root root   4096 Jul 18 13:23 055\n",
      "drwxr-xr-x 2 root root   4096 Jul 18 13:23 056\n",
      "drwxr-xr-x 2 root root   4096 Jul 18 13:23 057\n",
      "drwxr-xr-x 2 root root   4096 Jul 18 13:23 058\n",
      "drwxr-xr-x 2 root root   4096 Jul 18 13:23 059\n",
      "drwxr-xr-x 2 root root   4096 Jul 18 13:23 060\n",
      "drwxr-xr-x 2 root root   4096 Jul 18 13:23 061\n",
      "drwxr-xr-x 2 root root   4096 Jul 18 13:23 062\n",
      "drwxr-xr-x 2 root root   4096 Jul 18 13:23 063\n",
      "drwxr-xr-x 2 root root   4096 Jul 18 13:23 064\n",
      "drwxr-xr-x 2 root root   4096 Jul 18 13:23 065\n",
      "drwxr-xr-x 2 root root   4096 Jul 18 13:24 066\n",
      "drwxr-xr-x 2 root root   4096 Jul 18 13:24 067\n",
      "drwxr-xr-x 2 root root   4096 Jul 18 13:24 068\n",
      "drwxr-xr-x 2 root root   4096 Jul 18 13:24 069\n",
      "drwxr-xr-x 2 root root   4096 Jul 18 13:24 070\n",
      "drwxr-xr-x 2 root root   4096 Jul 18 13:24 071\n",
      "drwxr-xr-x 2 root root   4096 Jul 18 13:24 072\n",
      "drwxr-xr-x 2 root root   4096 Jul 18 13:24 073\n",
      "drwxr-xr-x 2 root root   4096 Jul 18 13:24 074\n",
      "drwxr-xr-x 2 root root   4096 Jul 18 13:24 075\n",
      "drwxr-xr-x 2 root root   4096 Jul 18 13:24 076\n",
      "drwxr-xr-x 2 root root   4096 Jul 18 13:24 077\n",
      "drwxr-xr-x 2 root root   4096 Jul 18 13:24 078\n",
      "drwxr-xr-x 2 root root   4096 Jul 18 13:24 079\n",
      "drwxr-xr-x 2 root root   4096 Jul 18 13:24 080\n",
      "drwxr-xr-x 2 root root   4096 Jul 18 13:24 081\n",
      "drwxr-xr-x 2 root root   4096 Jul 18 13:24 082\n",
      "drwxr-xr-x 2 root root   4096 Jul 18 13:24 083\n",
      "drwxr-xr-x 2 root root   4096 Jul 18 13:24 084\n",
      "drwxr-xr-x 2 root root   4096 Jul 18 13:24 085\n",
      "drwxr-xr-x 2 root root   4096 Jul 18 13:24 086\n",
      "drwxr-xr-x 2 root root   4096 Jul 18 13:24 087\n",
      "drwxr-xr-x 2 root root   4096 Jul 18 13:24 088\n",
      "drwxr-xr-x 2 root root   4096 Jul 18 13:24 089\n",
      "drwxr-xr-x 2 root root   4096 Jul 18 13:24 090\n",
      "drwxr-xr-x 2 root root   4096 Jul 18 13:24 091\n",
      "drwxr-xr-x 2 root root   4096 Jul 18 13:24 092\n",
      "drwxr-xr-x 2 root root   4096 Jul 18 13:24 093\n",
      "drwxr-xr-x 2 root root   4096 Jul 18 13:24 094\n",
      "drwxr-xr-x 2 root root   4096 Jul 18 13:23 095\n",
      "drwxr-xr-x 2 root root   4096 Jul 18 13:23 096\n",
      "drwxr-xr-x 2 root root   4096 Jul 18 13:23 097\n",
      "drwxr-xr-x 2 root root   4096 Jul 18 13:23 098\n",
      "drwxr-xr-x 2 root root   4096 Jul 18 13:23 099\n",
      "drwxr-xr-x 2 root root   4096 Jul 18 13:23 100\n",
      "drwxr-xr-x 2 root root   4096 Jul 18 13:23 101\n",
      "drwxr-xr-x 2 root root   4096 Jul 18 13:23 102\n",
      "drwxr-xr-x 2 root root   4096 Jul 18 13:23 103\n",
      "drwxr-xr-x 2 root root   4096 Jul 18 13:23 104\n",
      "drwxr-xr-x 2 root root   4096 Jul 18 13:23 105\n",
      "drwxr-xr-x 2 root root   4096 Jul 18 13:23 106\n",
      "drwxr-xr-x 2 root root   4096 Jul 18 13:23 107\n",
      "drwxr-xr-x 2 root root   4096 Jul 18 13:23 108\n",
      "drwxr-xr-x 2 root root   4096 Jul 18 13:23 109\n",
      "drwxr-xr-x 2 root root   4096 Jul 18 13:23 110\n",
      "drwxr-xr-x 2 root root   4096 Jul 18 13:23 111\n",
      "drwxr-xr-x 2 root root   4096 Jul 18 13:23 112\n",
      "drwxr-xr-x 2 root root   4096 Jul 18 13:23 113\n",
      "drwxr-xr-x 2 root root   4096 Jul 18 13:23 114\n",
      "drwxr-xr-x 2 root root   4096 Jul 18 13:23 115\n",
      "drwxr-xr-x 2 root root   4096 Jul 18 13:23 116\n",
      "drwxr-xr-x 2 root root   4096 Jul 18 13:23 117\n",
      "drwxr-xr-x 2 root root   4096 Jul 18 13:23 118\n",
      "drwxr-xr-x 2 root root   4096 Jul 18 13:23 119\n",
      "drwxr-xr-x 2 root root   4096 Jul 18 13:23 120\n",
      "drwxr-xr-x 2 root root   4096 Jul 18 13:23 121\n",
      "drwxr-xr-x 2 root root   4096 Jul 18 13:23 122\n",
      "drwxr-xr-x 2 root root   4096 Jul 18 13:23 123\n",
      "drwxr-xr-x 2 root root   4096 Jul 18 13:23 124\n",
      "drwxr-xr-x 2 root root   4096 Jul 18 13:23 125\n",
      "drwxr-xr-x 2 root root   4096 Jul 18 13:23 126\n",
      "drwxr-xr-x 2 root root   4096 Jul 18 13:23 127\n",
      "drwxr-xr-x 2 root root   4096 Jul 18 13:23 128\n",
      "drwxr-xr-x 2 root root   4096 Jul 18 13:23 129\n",
      "drwxr-xr-x 2 root root   4096 Jul 18 13:23 130\n",
      "drwxr-xr-x 2 root root   4096 Jul 18 13:23 131\n",
      "drwxr-xr-x 2 root root   4096 Jul 18 13:23 132\n",
      "drwxr-xr-x 2 root root   4096 Jul 18 13:23 133\n",
      "drwxr-xr-x 2 root root   4096 Jul 18 13:23 134\n",
      "drwxr-xr-x 2 root root   4096 Jul 18 13:23 135\n",
      "drwxr-xr-x 2 root root   4096 Jul 18 13:23 136\n",
      "drwxr-xr-x 2 root root   4096 Jul 18 13:23 137\n",
      "drwxr-xr-x 2 root root   4096 Jul 18 13:23 138\n",
      "drwxr-xr-x 2 root root   4096 Jul 18 13:23 139\n",
      "drwxr-xr-x 2 root root   4096 Jul 18 13:23 140\n",
      "drwxr-xr-x 2 root root   4096 Jul 18 13:23 141\n",
      "drwxr-xr-x 2 root root   4096 Jul 18 13:23 142\n",
      "drwxr-xr-x 2 root root   4096 Jul 18 13:23 143\n",
      "drwxr-xr-x 2 root root   4096 Jul 18 13:23 144\n",
      "drwxr-xr-x 2 root root   4096 Jul 18 13:23 145\n",
      "drwxr-xr-x 2 root root   4096 Jul 18 13:23 146\n",
      "drwxr-xr-x 2 root root   4096 Jul 18 13:23 147\n",
      "drwxr-xr-x 2 root root   4096 Jul 18 13:23 148\n",
      "drwxr-xr-x 2 root root   4096 Jul 18 13:23 149\n",
      "drwxr-xr-x 2 root root   4096 Jul 18 13:23 150\n",
      "drwxr-xr-x 2 root root   4096 Jul 18 13:23 151\n",
      "drwxr-xr-x 2 root root   4096 Jul 18 13:23 152\n",
      "drwxr-xr-x 2 root root   4096 Jul 18 13:23 153\n",
      "drwxr-xr-x 2 root root   4096 Jul 18 13:23 154\n",
      "drwxr-xr-x 2 root root   4096 Jul 18 13:23 155\n",
      "drwxr-xr-x 2 root root   4096 Jul 18 13:23 156\n",
      "drwxr-xr-x 2 root root   4096 Jul 18 13:23 157\n",
      "drwxr-xr-x 2 root root   4096 Jul 18 13:23 158\n",
      "drwxr-xr-x 2 root root   4096 Jul 18 13:23 159\n",
      "drwxr-xr-x 2 root root   4096 Jul 18 13:23 160\n",
      "-rw-r--r-- 1 root root 358560 Jul 18 13:23 Hindi_pairs.txt\n",
      "-rw-r--r-- 1 root root  97770 Jul 18 13:23 list.forgery\n",
      "-rw-r--r-- 1 root root  78216 Jul 18 13:23 list.genuine\n"
     ]
    }
   ],
   "source": [
    "!ls -l BHSig260/Hindi"
   ]
  },
  {
   "cell_type": "code",
   "execution_count": null,
   "metadata": {
    "colab": {
     "base_uri": "https://localhost:8080/",
     "height": 968
    },
    "id": "stdqGXfq8_Go",
    "outputId": "e73328dd-941d-46eb-9307-b60b32e57ab7"
   },
   "outputs": [
    {
     "name": "stdout",
     "output_type": "stream",
     "text": [
      "total 14932\n",
      "-rw-r--r-- 1 root root 278048 Jul 18 13:23 H-S-1-F-01.tif\n",
      "-rw-r--r-- 1 root root 278048 Jul 18 13:23 H-S-1-F-02.tif\n",
      "-rw-r--r-- 1 root root 290756 Jul 18 13:23 H-S-1-F-03.tif\n",
      "-rw-r--r-- 1 root root 276374 Jul 18 13:23 H-S-1-F-04.tif\n",
      "-rw-r--r-- 1 root root 277570 Jul 18 13:23 H-S-1-F-05.tif\n",
      "-rw-r--r-- 1 root root 288976 Jul 18 13:23 H-S-1-F-06.tif\n",
      "-rw-r--r-- 1 root root 274136 Jul 18 13:23 H-S-1-F-07.tif\n",
      "-rw-r--r-- 1 root root 274136 Jul 18 13:23 H-S-1-F-08.tif\n",
      "-rw-r--r-- 1 root root 294131 Jul 18 13:23 H-S-1-F-09.tif\n",
      "-rw-r--r-- 1 root root 279026 Jul 18 13:23 H-S-1-F-10.tif\n",
      "-rw-r--r-- 1 root root 279026 Jul 18 13:23 H-S-1-F-11.tif\n",
      "-rw-r--r-- 1 root root 293100 Jul 18 13:23 H-S-1-F-12.tif\n",
      "-rw-r--r-- 1 root root 278048 Jul 18 13:23 H-S-1-F-13.tif\n",
      "-rw-r--r-- 1 root root 278332 Jul 18 13:23 H-S-1-F-14.tif\n",
      "-rw-r--r-- 1 root root 290288 Jul 18 13:23 H-S-1-F-15.tif\n",
      "-rw-r--r-- 1 root root 275395 Jul 18 13:23 H-S-1-F-16.tif\n",
      "-rw-r--r-- 1 root root 275114 Jul 18 13:23 H-S-1-F-17.tif\n",
      "-rw-r--r-- 1 root root 294131 Jul 18 13:23 H-S-1-F-18.tif\n",
      "-rw-r--r-- 1 root root 279026 Jul 18 13:23 H-S-1-F-19.tif\n",
      "-rw-r--r-- 1 root root 279026 Jul 18 13:23 H-S-1-F-20.tif\n",
      "-rw-r--r-- 1 root root 292069 Jul 18 13:23 H-S-1-F-21.tif\n",
      "-rw-r--r-- 1 root root 277070 Jul 18 13:23 H-S-1-F-22.tif\n",
      "-rw-r--r-- 1 root root 277070 Jul 18 13:23 H-S-1-F-23.tif\n",
      "-rw-r--r-- 1 root root 288696 Jul 18 13:23 H-S-1-F-24.tif\n",
      "-rw-r--r-- 1 root root 274416 Jul 18 13:23 H-S-1-F-25.tif\n",
      "-rw-r--r-- 1 root root 274136 Jul 18 13:23 H-S-1-F-26.tif\n",
      "-rw-r--r-- 1 root root 278048 Jul 18 13:23 H-S-1-F-27.tif\n",
      "-rw-r--r-- 1 root root 278048 Jul 18 13:23 H-S-1-F-28.tif\n",
      "-rw-r--r-- 1 root root 288696 Jul 18 13:23 H-S-1-F-29.tif\n",
      "-rw-r--r-- 1 root root 293100 Jul 18 13:23 H-S-1-F-30.tif\n",
      "-rw-r--r-- 1 root root 276787 Jul 18 13:23 H-S-1-G-01.tif\n",
      "-rw-r--r-- 1 root root 277353 Jul 18 13:23 H-S-1-G-02.tif\n",
      "-rw-r--r-- 1 root root 290937 Jul 18 13:23 H-S-1-G-03.tif\n",
      "-rw-r--r-- 1 root root 276787 Jul 18 13:23 H-S-1-G-04.tif\n",
      "-rw-r--r-- 1 root root 277353 Jul 18 13:23 H-S-1-G-05.tif\n",
      "-rw-r--r-- 1 root root 275810 Jul 18 13:23 H-S-1-G-06.tif\n",
      "-rw-r--r-- 1 root root 276374 Jul 18 13:23 H-S-1-G-07.tif\n",
      "-rw-r--r-- 1 root root 290937 Jul 18 13:23 H-S-1-G-08.tif\n",
      "-rw-r--r-- 1 root root 276787 Jul 18 13:23 H-S-1-G-09.tif\n",
      "-rw-r--r-- 1 root root 277353 Jul 18 13:23 H-S-1-G-10.tif\n",
      "-rw-r--r-- 1 root root 289910 Jul 18 13:23 H-S-1-G-11.tif\n",
      "-rw-r--r-- 1 root root 275810 Jul 18 13:23 H-S-1-G-12.tif\n",
      "-rw-r--r-- 1 root root 276656 Jul 18 13:23 H-S-1-G-13.tif\n",
      "-rw-r--r-- 1 root root 291964 Jul 18 13:23 H-S-1-G-14.tif\n",
      "-rw-r--r-- 1 root root 277764 Jul 18 13:23 H-S-1-G-15.tif\n",
      "-rw-r--r-- 1 root root 278332 Jul 18 13:23 H-S-1-G-16.tif\n",
      "-rw-r--r-- 1 root root 290654 Jul 18 13:23 H-S-1-G-17.tif\n",
      "-rw-r--r-- 1 root root 277070 Jul 18 13:23 H-S-1-G-18.tif\n",
      "-rw-r--r-- 1 root root 277353 Jul 18 13:23 H-S-1-G-19.tif\n",
      "-rw-r--r-- 1 root root 290937 Jul 18 13:23 H-S-1-G-20.tif\n",
      "-rw-r--r-- 1 root root 276787 Jul 18 13:23 H-S-1-G-21.tif\n",
      "-rw-r--r-- 1 root root 277636 Jul 18 13:23 H-S-1-G-22.tif\n",
      "-rw-r--r-- 1 root root 275810 Jul 18 13:23 H-S-1-G-23.tif\n",
      "-rw-r--r-- 1 root root 290937 Jul 18 13:23 H-S-1-G-24.tif\n"
     ]
    }
   ],
   "source": [
    "#Check data in Hindi folder\n",
    "!ls -l BHSig260/Hindi/001"
   ]
  },
  {
   "cell_type": "markdown",
   "metadata": {
    "id": "Y8wh90Ho6T2x"
   },
   "source": [
    "#### Data preparation\n",
    "\n",
    "We will use only Hindi signatures for this exercise."
   ]
  },
  {
   "cell_type": "code",
   "execution_count": null,
   "metadata": {
    "id": "GxB-WZlg6fZO"
   },
   "outputs": [],
   "source": [
    "import os"
   ]
  },
  {
   "cell_type": "markdown",
   "metadata": {
    "id": "smlHEXb86oeU"
   },
   "source": [
    "Get list of signature directories (1 directory per person)"
   ]
  },
  {
   "cell_type": "code",
   "execution_count": null,
   "metadata": {
    "id": "Q7gAhIAW6nFI"
   },
   "outputs": [],
   "source": [
    "#Path to Hindi signatures\n",
    "path = 'BHSig260/Hindi/'\n",
    "\n",
    "#Get the list of all directories and sort them\n",
    "dir_list = next(os.walk(path))[1]\n",
    "dir_list.sort()"
   ]
  },
  {
   "cell_type": "code",
   "execution_count": null,
   "metadata": {
    "colab": {
     "base_uri": "https://localhost:8080/",
     "height": 54
    },
    "id": "b4IPVn_n7VcY",
    "outputId": "83c4d06f-d9d0-47ba-8052-736fe88a14b3"
   },
   "outputs": [
    {
     "name": "stdout",
     "output_type": "stream",
     "text": [
      "['001', '002', '003', '004', '005', '006', '007', '008', '009', '010', '011', '012', '013', '014', '015', '016', '017', '018', '019', '020', '021', '022', '023', '024', '025', '026', '027', '028', '029', '030', '031', '032', '033', '034', '035', '036', '037', '038', '039', '040', '041', '042', '043', '044', '045', '046', '047', '048', '049', '050', '051', '052', '053', '054', '055', '056', '057', '058', '059', '060', '061', '062', '063', '064', '065', '066', '067', '068', '069', '070', '071', '072', '073', '074', '075', '076', '077', '078', '079', '080', '081', '082', '083', '084', '085', '086', '087', '088', '089', '090', '091', '092', '093', '094', '095', '096', '097', '098', '099', '100', '101', '102', '103', '104', '105', '106', '107', '108', '109', '110', '111', '112', '113', '114', '115', '116', '117', '118', '119', '120', '121', '122', '123', '124', '125', '126', '127', '128', '129', '130', '131', '132', '133', '134', '135', '136', '137', '138', '139', '140', '141', '142', '143', '144', '145', '146', '147', '148', '149', '150', '151', '152', '153', '154', '155', '156', '157', '158', '159', '160']\n"
     ]
    }
   ],
   "source": [
    "#List of directories\n",
    "print(dir_list)"
   ]
  },
  {
   "cell_type": "markdown",
   "metadata": {
    "id": "S18S_uQ77kuC"
   },
   "source": [
    "Get signature filenames for each person (1 Directory).\n",
    "- For each person, first 30 pictures are forged signature\n",
    "- Last 24 pictures in the directory are genuine"
   ]
  },
  {
   "cell_type": "code",
   "execution_count": null,
   "metadata": {
    "id": "1oCeEk0w74Of"
   },
   "outputs": [],
   "source": [
    "#Start with empty list of original and fake signatures\n",
    "genuine_signs = []\n",
    "forged_signs = []"
   ]
  },
  {
   "cell_type": "code",
   "execution_count": null,
   "metadata": {
    "id": "GTzncjjA8GrY"
   },
   "outputs": [],
   "source": [
    "#Loop through each directory\n",
    "for directory in dir_list:\n",
    "\n",
    "    #Read all image file names in the directory\n",
    "    images = os.listdir(path+directory)\n",
    "    images.sort()\n",
    "\n",
    "    #Add path to image name\n",
    "    images = [path+directory + '/'+ x for x in images]\n",
    "\n",
    "    #First 30 signs are forged\n",
    "    forged_signs.append(images[:30])\n",
    "    #Last 24 signs are genuine\n",
    "    genuine_signs.append(images[30:])"
   ]
  },
  {
   "cell_type": "code",
   "execution_count": null,
   "metadata": {
    "colab": {
     "base_uri": "https://localhost:8080/",
     "height": 52
    },
    "id": "oXUGc3j48xpD",
    "outputId": "9dbf837d-a218-48da-91d8-5cbd8edf3d01"
   },
   "outputs": [
    {
     "name": "stdout",
     "output_type": "stream",
     "text": [
      "Number of people with genuine signs: 160\n",
      "Number of people with forged signs: 160\n"
     ]
    }
   ],
   "source": [
    "#Check if we have 160 people's genuine and forged signatures\n",
    "print('Number of people with genuine signs:', len(genuine_signs))\n",
    "print('Number of people with forged signs:', len(forged_signs))"
   ]
  },
  {
   "cell_type": "code",
   "execution_count": null,
   "metadata": {
    "colab": {
     "base_uri": "https://localhost:8080/",
     "height": 34
    },
    "id": "rbLrF7UIDGFI",
    "outputId": "57583c55-69d0-44bf-ff74-f767a4906cb6"
   },
   "outputs": [
    {
     "data": {
      "text/plain": [
       "(24, 30)"
      ]
     },
     "execution_count": 14,
     "metadata": {
      "tags": []
     },
     "output_type": "execute_result"
    }
   ],
   "source": [
    "len(genuine_signs[10]), len(forged_signs[10])"
   ]
  },
  {
   "cell_type": "markdown",
   "metadata": {
    "id": "KoVk7yzc9V7Z"
   },
   "source": [
    "Split between Training and Test. We will use first 80% directories for training and last 20% for test."
   ]
  },
  {
   "cell_type": "code",
   "execution_count": null,
   "metadata": {
    "id": "1bbIKdWz9iLf"
   },
   "outputs": [],
   "source": [
    "train_g, test_g = genuine_signs[:128], genuine_signs[128:]\n",
    "train_f, test_f = forged_signs[:128], forged_signs[128:]"
   ]
  },
  {
   "cell_type": "markdown",
   "metadata": {
    "id": "GJ7CheTq979y"
   },
   "source": [
    "#### Visualize Signatures"
   ]
  },
  {
   "cell_type": "code",
   "execution_count": null,
   "metadata": {
    "id": "Pt-sQ4O1_bJw"
   },
   "outputs": [],
   "source": [
    "import tensorflow as tf\n",
    "import numpy as np\n",
    "from matplotlib import pyplot as plt\n",
    "from tqdm import tqdm"
   ]
  },
  {
   "cell_type": "code",
   "execution_count": null,
   "metadata": {
    "id": "dSxGYc3ZnWE5"
   },
   "outputs": [],
   "source": [
    "def visualize_signatures():\n",
    "\n",
    "    \"\"\"\n",
    "    1. Randomly select a person id\n",
    "    2. Show two genuine signatures for the person\n",
    "    3. Show one forged signature for the same person\n",
    "    \"\"\"\n",
    "    \n",
    "    #Pick up a person from 160 people\n",
    "    person_id = np.random.randint(0, len(genuine_signs))\n",
    "\n",
    "    #Read genuine signature pics\n",
    "    genuine1, genuine2 = np.random.randint(0, 24, 2) #Get two pics randomly\n",
    "    original_img = tf.keras.preprocessing.image.load_img(genuine_signs[person_id][genuine1])#, color_mode='grayscale')\n",
    "    genuine_img = tf.keras.preprocessing.image.load_img(genuine_signs[person_id][genuine2])#, color_mode='grayscale')\n",
    "\n",
    "    #Read forged signature of same person\n",
    "    forged1 = np.random.randint(0, 30)\n",
    "    forged_img = tf.keras.preprocessing.image.load_img(forged_signs[person_id][forged1])#, color_mode='grayscale')\n",
    "\n",
    "    #Display pictures    \n",
    "    fig, (ax1, ax2, ax3) = plt.subplots(1, 3, figsize = (15, 10))\n",
    "\n",
    "    ax1.set_title('Genuine sign')\n",
    "    ax1.imshow(original_img, cmap = 'gray')\n",
    "    ax1.axis('off')\n",
    "\n",
    "    ax2.set_title('Genuine sign')\n",
    "    ax2.imshow(genuine_img, cmap = 'gray')\n",
    "    ax2.axis('off')\n",
    "\n",
    "    ax3.set_title('Forged sign')\n",
    "    ax3.imshow(forged_img, cmap = 'gray')\n",
    "    ax3.axis('off')\n",
    "\n",
    "    plt.show()"
   ]
  },
  {
   "cell_type": "code",
   "execution_count": null,
   "metadata": {
    "colab": {
     "base_uri": "https://localhost:8080/",
     "height": 118
    },
    "id": "ODvJ52T3-AMu",
    "outputId": "fa1761d1-ae5a-4dd9-de3d-dc092079b7e2"
   },
   "outputs": [
    {
     "data": {
      "image/png": "[encoded data removed]",
      "text/plain": [
       "<Figure size 1080x720 with 3 Axes>"
      ]
     },
     "metadata": {
      "needs_background": "light",
      "tags": []
     },
     "output_type": "display_data"
    }
   ],
   "source": [
    "visualize_signatures()"
   ]
  },
  {
   "cell_type": "markdown",
   "metadata": {
    "id": "4YAIYkwwB-5Z"
   },
   "source": [
    "#### Building signature pairs"
   ]
  },
  {
   "cell_type": "markdown",
   "metadata": {
    "id": "YmWAXweiCeRI"
   },
   "source": [
    "Siamese network requires **two inputs** (rather than one we use with other models). In this case, the two input could be a \n",
    "1. Combination of **genuine-genuine** signatures\n",
    "2. Combination of **genuine-forged** signatures\n",
    "\n",
    "In the dataset, for each person, we have 24 genuine signatures and 30 forged signatures."
   ]
  },
  {
   "cell_type": "markdown",
   "metadata": {
    "id": "SMLXIdNODe0U"
   },
   "source": [
    "How many pairs can we create for model training. For each person...\n",
    "\n",
    "1. We can have 24 C 2 i.e 276 **genuine-genuine** pairs\n",
    "2. We can have 24 x 30 = 720 **genuine-forged** pairs\n",
    "\n",
    "This will make distribution to be 276:720 *i.e* 1:3 (approximate). \n",
    "\n",
    "To make the distribution even between different type of pairs, we will randomly take only 12 forged pictures (out of 30). This will make us have 24 x 12 = **288** genuine-forged pairs for each person."
   ]
  },
  {
   "cell_type": "markdown",
   "metadata": {
    "id": "LG06fc0SFE6G"
   },
   "source": [
    "**Question: How many pairs we will have in training and test dataset?**"
   ]
  },
  {
   "cell_type": "markdown",
   "metadata": {
    "id": "3xFThzdqGSRZ"
   },
   "source": [
    "Build genuine-genuine pairs"
   ]
  },
  {
   "cell_type": "code",
   "execution_count": null,
   "metadata": {
    "id": "0Cgp5DiTGUWd"
   },
   "outputs": [],
   "source": [
    "def build_genuine_pairs(sig_list):\n",
    "\n",
    "    pairs_list = []\n",
    "\n",
    "    for person_id in range(len(sig_list)):\n",
    "\n",
    "        for i in range(len(sig_list[0])-1):\n",
    "            for j in range(i+1, len(sig_list[0])):\n",
    "\n",
    "                pairs_list.append([sig_list[person_id][i], sig_list[person_id][j]])\n",
    "    \n",
    "    return pairs_list"
   ]
  },
  {
   "cell_type": "code",
   "execution_count": null,
   "metadata": {
    "id": "9EZaAnpNHaWo"
   },
   "outputs": [],
   "source": [
    "#Build training and test pairs\n",
    "train_g_g_pairs = build_genuine_pairs(train_g)\n",
    "test_g_g_pairs = build_genuine_pairs(test_g)"
   ]
  },
  {
   "cell_type": "code",
   "execution_count": null,
   "metadata": {
    "colab": {
     "base_uri": "https://localhost:8080/",
     "height": 52
    },
    "id": "fnYj19wtHogp",
    "outputId": "8a19844f-7e09-4f8a-8ae6-a2b7d7e4b85a"
   },
   "outputs": [
    {
     "name": "stdout",
     "output_type": "stream",
     "text": [
      "Number of genuine pairs in training set: 35328\n",
      "Number of genuine pairs in test set: 8832\n"
     ]
    }
   ],
   "source": [
    "#Check number of pairs in training and test\n",
    "print('Number of genuine pairs in training set:', len(train_g_g_pairs))\n",
    "print('Number of genuine pairs in test set:', len(test_g_g_pairs))"
   ]
  },
  {
   "cell_type": "markdown",
   "metadata": {
    "id": "IXAvUc6zID7m"
   },
   "source": [
    "Build genuine-fake pairs"
   ]
  },
  {
   "cell_type": "code",
   "execution_count": null,
   "metadata": {
    "id": "T-s1Yr8nIGMA"
   },
   "outputs": [],
   "source": [
    "def build_gen_forged_pairs(gen_sigs, forged_sigs):\n",
    "\n",
    "    pairs_list = []\n",
    "\n",
    "    for person_id in range(len(gen_sigs)):\n",
    "\n",
    "        #Let's pickup 12 random numbers for forged signatures\n",
    "        forged_ids = np.random.randint(0, len(forged_sigs[0]), 12)\n",
    "\n",
    "        for i in range(len(gen_sigs[0])):\n",
    "            for j in forged_ids:\n",
    "                pairs_list.append([gen_sigs[person_id][i], forged_sigs[person_id][j]])\n",
    "    \n",
    "    return pairs_list"
   ]
  },
  {
   "cell_type": "code",
   "execution_count": null,
   "metadata": {
    "id": "6FdgxIqjJYof"
   },
   "outputs": [],
   "source": [
    "#Build training and test pairs\n",
    "train_g_f_pairs = build_gen_forged_pairs(train_g, train_f)\n",
    "test_g_f_pairs = build_gen_forged_pairs(test_g, test_f)"
   ]
  },
  {
   "cell_type": "code",
   "execution_count": null,
   "metadata": {
    "colab": {
     "base_uri": "https://localhost:8080/",
     "height": 52
    },
    "id": "ZaagN-Z1J_o8",
    "outputId": "bd4e0169-f96c-4010-e35b-6b15fab00c5a"
   },
   "outputs": [
    {
     "name": "stdout",
     "output_type": "stream",
     "text": [
      "Number of genuine-forged pairs in training set: 36864\n",
      "Number of genuine-forged pairs in test set: 9216\n"
     ]
    }
   ],
   "source": [
    "#Check number of pairs in training and test\n",
    "print('Number of genuine-forged pairs in training set:', len(train_g_f_pairs))\n",
    "print('Number of genuine-forged pairs in test set:', len(test_g_f_pairs))"
   ]
  },
  {
   "cell_type": "code",
   "execution_count": null,
   "metadata": {
    "colab": {
     "base_uri": "https://localhost:8080/",
     "height": 34
    },
    "id": "A1_7oZGPeg-L",
    "outputId": "90e64505-faa2-40a0-e76e-40e017b3f920"
   },
   "outputs": [
    {
     "data": {
      "text/plain": [
       "72192"
      ]
     },
     "execution_count": 26,
     "metadata": {
      "tags": []
     },
     "output_type": "execute_result"
    }
   ],
   "source": [
    "#Total number of examples in training\n",
    "len(train_g_g_pairs) +  len(train_g_f_pairs)"
   ]
  },
  {
   "cell_type": "markdown",
   "metadata": {
    "id": "WWT_Wb_OLaBk"
   },
   "source": [
    "#### Build Batch Generator"
   ]
  },
  {
   "cell_type": "code",
   "execution_count": null,
   "metadata": {
    "id": "nE5HMf3XZLzw"
   },
   "outputs": [],
   "source": [
    "#Set image Size\n",
    "img_width = 330\n",
    "img_height = 100"
   ]
  },
  {
   "cell_type": "code",
   "execution_count": null,
   "metadata": {
    "id": "7Ac1ky-FLcV0"
   },
   "outputs": [],
   "source": [
    "def batch_generator(gen_gen_list, gen_forged_list, batch_size=32):\n",
    "\n",
    "\n",
    "    while True:\n",
    "\n",
    "        first_img_array = np.zeros((batch_size, img_height, img_width, 3))\n",
    "        second_img_array = np.zeros((batch_size, img_height, img_width, 3))\n",
    "        batch_labels = np.zeros((batch_size, 1))\n",
    "\n",
    "        #Generate batch_size ids for both type of pairs\n",
    "        gen_gen_pair_idx = np.random.randint(0, len(gen_gen_list), batch_size//2)\n",
    "        gen_forged_pair_idx = np.random.randint(0, len(gen_forged_list), batch_size//2)\n",
    "\n",
    "        for i in range(batch_size//2):\n",
    "\n",
    "            #Get images from gen_gen pair\n",
    "            gg_id = gen_gen_pair_idx[i]\n",
    "            first_img = tf.keras.preprocessing.image.load_img(gen_gen_list[gg_id][0], target_size=(img_height, img_width))\n",
    "            second_img = tf.keras.preprocessing.image.load_img(gen_gen_list[gg_id][1], target_size=(img_height, img_width))\n",
    "            \n",
    "            first_img_array[2*i] = tf.keras.preprocessing.image.img_to_array(first_img)\n",
    "            second_img_array[2*i] = tf.keras.preprocessing.image.img_to_array(second_img)\n",
    "\n",
    "            #Genuine genuine pair will be a given a label of '1'\n",
    "            batch_labels[2*i] = 1\n",
    "\n",
    "            #Get images from gen_forged pair\n",
    "            gf_id = gen_forged_pair_idx[i]\n",
    "            first_img = tf.keras.preprocessing.image.load_img(gen_forged_list[gf_id][0], target_size=(img_height, img_width))\n",
    "            second_img = tf.keras.preprocessing.image.load_img(gen_forged_list[gf_id][1], target_size=(img_height, img_width))\n",
    "            \n",
    "            first_img_array[2*i+1] = tf.keras.preprocessing.image.img_to_array(first_img)\n",
    "            second_img_array[2*i+1] = tf.keras.preprocessing.image.img_to_array(second_img)\n",
    "\n",
    "            #Genuine genuine-forged pair will be a given a label of '0'\n",
    "            batch_labels[2*i+1] = 0\n",
    "        \n",
    "        #Normalize data\n",
    "        first_img_array = tf.keras.applications.mobilenet.preprocess_input(first_img_array)\n",
    "        second_img_array = tf.keras.applications.mobilenet.preprocess_input(second_img_array)\n",
    "\n",
    "        yield [first_img_array, second_img_array], batch_labels"
   ]
  },
  {
   "cell_type": "markdown",
   "metadata": {
    "id": "EkMXRqyZfSto"
   },
   "source": [
    "#### Build Model"
   ]
  },
  {
   "cell_type": "markdown",
   "metadata": {
    "id": "pix5JrrrgKgF"
   },
   "source": [
    "Load a pre-trained model (we can build a model from scratch as well)"
   ]
  },
  {
   "cell_type": "code",
   "execution_count": null,
   "metadata": {
    "colab": {
     "base_uri": "https://localhost:8080/",
     "height": 89
    },
    "id": "vql7Dga6fT_7",
    "outputId": "7b84c553-2fb6-4567-f30a-84663492b83a"
   },
   "outputs": [
    {
     "name": "stdout",
     "output_type": "stream",
     "text": [
      "WARNING:tensorflow:`input_shape` is undefined or non-square, or `rows` is not in [128, 160, 192, 224]. Weights for input shape (224, 224) will be loaded as the default.\n",
      "Downloading data from https://storage.googleapis.com/tensorflow/keras-applications/mobilenet/mobilenet_5_0_224_tf_no_top.h5\n",
      "5578752/5577668 [==============================] - 0s 0us/step\n"
     ]
    }
   ],
   "source": [
    "mobilenet = tf.keras.applications.mobilenet.MobileNet(include_top=False, \n",
    "                                                      input_shape=(img_height, img_width,3),\n",
    "                                                      alpha=0.5,\n",
    "                                                      weights='imagenet')"
   ]
  },
  {
   "cell_type": "code",
   "execution_count": null,
   "metadata": {
    "colab": {
     "base_uri": "https://localhost:8080/",
     "height": 1000
    },
    "id": "jN94jN-5fuCz",
    "outputId": "caccaea6-daf1-4b6b-f3b7-f95473827a28"
   },
   "outputs": [
    {
     "name": "stdout",
     "output_type": "stream",
     "text": [
      "Model: \"mobilenet_0.50_224\"\n",
      "_________________________________________________________________\n",
      "Layer (type)                 Output Shape              Param #   \n",
      "=================================================================\n",
      "input_1 (InputLayer)         [(None, 100, 330, 3)]     0         \n",
      "_________________________________________________________________\n",
      "conv1_pad (ZeroPadding2D)    (None, 101, 331, 3)       0         \n",
      "_________________________________________________________________\n",
      "conv1 (Conv2D)               (None, 50, 165, 16)       432       \n",
      "_________________________________________________________________\n",
      "conv1_bn (BatchNormalization (None, 50, 165, 16)       64        \n",
      "_________________________________________________________________\n",
      "conv1_relu (ReLU)            (None, 50, 165, 16)       0         \n",
      "_________________________________________________________________\n",
      "conv_dw_1 (DepthwiseConv2D)  (None, 50, 165, 16)       144       \n",
      "_________________________________________________________________\n",
      "conv_dw_1_bn (BatchNormaliza (None, 50, 165, 16)       64        \n",
      "_________________________________________________________________\n",
      "conv_dw_1_relu (ReLU)        (None, 50, 165, 16)       0         \n",
      "_________________________________________________________________\n",
      "conv_pw_1 (Conv2D)           (None, 50, 165, 32)       512       \n",
      "_________________________________________________________________\n",
      "conv_pw_1_bn (BatchNormaliza (None, 50, 165, 32)       128       \n",
      "_________________________________________________________________\n",
      "conv_pw_1_relu (ReLU)        (None, 50, 165, 32)       0         \n",
      "_________________________________________________________________\n",
      "conv_pad_2 (ZeroPadding2D)   (None, 51, 166, 32)       0         \n",
      "_________________________________________________________________\n",
      "conv_dw_2 (DepthwiseConv2D)  (None, 25, 82, 32)        288       \n",
      "_________________________________________________________________\n",
      "conv_dw_2_bn (BatchNormaliza (None, 25, 82, 32)        128       \n",
      "_________________________________________________________________\n",
      "conv_dw_2_relu (ReLU)        (None, 25, 82, 32)        0         \n",
      "_________________________________________________________________\n",
      "conv_pw_2 (Conv2D)           (None, 25, 82, 64)        2048      \n",
      "_________________________________________________________________\n",
      "conv_pw_2_bn (BatchNormaliza (None, 25, 82, 64)        256       \n",
      "_________________________________________________________________\n",
      "conv_pw_2_relu (ReLU)        (None, 25, 82, 64)        0         \n",
      "_________________________________________________________________\n",
      "conv_dw_3 (DepthwiseConv2D)  (None, 25, 82, 64)        576       \n",
      "_________________________________________________________________\n",
      "conv_dw_3_bn (BatchNormaliza (None, 25, 82, 64)        256       \n",
      "_________________________________________________________________\n",
      "conv_dw_3_relu (ReLU)        (None, 25, 82, 64)        0         \n",
      "_________________________________________________________________\n",
      "conv_pw_3 (Conv2D)           (None, 25, 82, 64)        4096      \n",
      "_________________________________________________________________\n",
      "conv_pw_3_bn (BatchNormaliza (None, 25, 82, 64)        256       \n",
      "_________________________________________________________________\n",
      "conv_pw_3_relu (ReLU)        (None, 25, 82, 64)        0         \n",
      "_________________________________________________________________\n",
      "conv_pad_4 (ZeroPadding2D)   (None, 26, 83, 64)        0         \n",
      "_________________________________________________________________\n",
      "conv_dw_4 (DepthwiseConv2D)  (None, 12, 41, 64)        576       \n",
      "_________________________________________________________________\n",
      "conv_dw_4_bn (BatchNormaliza (None, 12, 41, 64)        256       \n",
      "_________________________________________________________________\n",
      "conv_dw_4_relu (ReLU)        (None, 12, 41, 64)        0         \n",
      "_________________________________________________________________\n",
      "conv_pw_4 (Conv2D)           (None, 12, 41, 128)       8192      \n",
      "_________________________________________________________________\n",
      "conv_pw_4_bn (BatchNormaliza (None, 12, 41, 128)       512       \n",
      "_________________________________________________________________\n",
      "conv_pw_4_relu (ReLU)        (None, 12, 41, 128)       0         \n",
      "_________________________________________________________________\n",
      "conv_dw_5 (DepthwiseConv2D)  (None, 12, 41, 128)       1152      \n",
      "_________________________________________________________________\n",
      "conv_dw_5_bn (BatchNormaliza (None, 12, 41, 128)       512       \n",
      "_________________________________________________________________\n",
      "conv_dw_5_relu (ReLU)        (None, 12, 41, 128)       0         \n",
      "_________________________________________________________________\n",
      "conv_pw_5 (Conv2D)           (None, 12, 41, 128)       16384     \n",
      "_________________________________________________________________\n",
      "conv_pw_5_bn (BatchNormaliza (None, 12, 41, 128)       512       \n",
      "_________________________________________________________________\n",
      "conv_pw_5_relu (ReLU)        (None, 12, 41, 128)       0         \n",
      "_________________________________________________________________\n",
      "conv_pad_6 (ZeroPadding2D)   (None, 13, 42, 128)       0         \n",
      "_________________________________________________________________\n",
      "conv_dw_6 (DepthwiseConv2D)  (None, 6, 20, 128)        1152      \n",
      "_________________________________________________________________\n",
      "conv_dw_6_bn (BatchNormaliza (None, 6, 20, 128)        512       \n",
      "_________________________________________________________________\n",
      "conv_dw_6_relu (ReLU)        (None, 6, 20, 128)        0         \n",
      "_________________________________________________________________\n",
      "conv_pw_6 (Conv2D)           (None, 6, 20, 256)        32768     \n",
      "_________________________________________________________________\n",
      "conv_pw_6_bn (BatchNormaliza (None, 6, 20, 256)        1024      \n",
      "_________________________________________________________________\n",
      "conv_pw_6_relu (ReLU)        (None, 6, 20, 256)        0         \n",
      "_________________________________________________________________\n",
      "conv_dw_7 (DepthwiseConv2D)  (None, 6, 20, 256)        2304      \n",
      "_________________________________________________________________\n",
      "conv_dw_7_bn (BatchNormaliza (None, 6, 20, 256)        1024      \n",
      "_________________________________________________________________\n",
      "conv_dw_7_relu (ReLU)        (None, 6, 20, 256)        0         \n",
      "_________________________________________________________________\n",
      "conv_pw_7 (Conv2D)           (None, 6, 20, 256)        65536     \n",
      "_________________________________________________________________\n",
      "conv_pw_7_bn (BatchNormaliza (None, 6, 20, 256)        1024      \n",
      "_________________________________________________________________\n",
      "conv_pw_7_relu (ReLU)        (None, 6, 20, 256)        0         \n",
      "_________________________________________________________________\n",
      "conv_dw_8 (DepthwiseConv2D)  (None, 6, 20, 256)        2304      \n",
      "_________________________________________________________________\n",
      "conv_dw_8_bn (BatchNormaliza (None, 6, 20, 256)        1024      \n",
      "_________________________________________________________________\n",
      "conv_dw_8_relu (ReLU)        (None, 6, 20, 256)        0         \n",
      "_________________________________________________________________\n",
      "conv_pw_8 (Conv2D)           (None, 6, 20, 256)        65536     \n",
      "_________________________________________________________________\n",
      "conv_pw_8_bn (BatchNormaliza (None, 6, 20, 256)        1024      \n",
      "_________________________________________________________________\n",
      "conv_pw_8_relu (ReLU)        (None, 6, 20, 256)        0         \n",
      "_________________________________________________________________\n",
      "conv_dw_9 (DepthwiseConv2D)  (None, 6, 20, 256)        2304      \n",
      "_________________________________________________________________\n",
      "conv_dw_9_bn (BatchNormaliza (None, 6, 20, 256)        1024      \n",
      "_________________________________________________________________\n",
      "conv_dw_9_relu (ReLU)        (None, 6, 20, 256)        0         \n",
      "_________________________________________________________________\n",
      "conv_pw_9 (Conv2D)           (None, 6, 20, 256)        65536     \n",
      "_________________________________________________________________\n",
      "conv_pw_9_bn (BatchNormaliza (None, 6, 20, 256)        1024      \n",
      "_________________________________________________________________\n",
      "conv_pw_9_relu (ReLU)        (None, 6, 20, 256)        0         \n",
      "_________________________________________________________________\n",
      "conv_dw_10 (DepthwiseConv2D) (None, 6, 20, 256)        2304      \n",
      "_________________________________________________________________\n",
      "conv_dw_10_bn (BatchNormaliz (None, 6, 20, 256)        1024      \n",
      "_________________________________________________________________\n",
      "conv_dw_10_relu (ReLU)       (None, 6, 20, 256)        0         \n",
      "_________________________________________________________________\n",
      "conv_pw_10 (Conv2D)          (None, 6, 20, 256)        65536     \n",
      "_________________________________________________________________\n",
      "conv_pw_10_bn (BatchNormaliz (None, 6, 20, 256)        1024      \n",
      "_________________________________________________________________\n",
      "conv_pw_10_relu (ReLU)       (None, 6, 20, 256)        0         \n",
      "_________________________________________________________________\n",
      "conv_dw_11 (DepthwiseConv2D) (None, 6, 20, 256)        2304      \n",
      "_________________________________________________________________\n",
      "conv_dw_11_bn (BatchNormaliz (None, 6, 20, 256)        1024      \n",
      "_________________________________________________________________\n",
      "conv_dw_11_relu (ReLU)       (None, 6, 20, 256)        0         \n",
      "_________________________________________________________________\n",
      "conv_pw_11 (Conv2D)          (None, 6, 20, 256)        65536     \n",
      "_________________________________________________________________\n",
      "conv_pw_11_bn (BatchNormaliz (None, 6, 20, 256)        1024      \n",
      "_________________________________________________________________\n",
      "conv_pw_11_relu (ReLU)       (None, 6, 20, 256)        0         \n",
      "_________________________________________________________________\n",
      "conv_pad_12 (ZeroPadding2D)  (None, 7, 21, 256)        0         \n",
      "_________________________________________________________________\n",
      "conv_dw_12 (DepthwiseConv2D) (None, 3, 10, 256)        2304      \n",
      "_________________________________________________________________\n",
      "conv_dw_12_bn (BatchNormaliz (None, 3, 10, 256)        1024      \n",
      "_________________________________________________________________\n",
      "conv_dw_12_relu (ReLU)       (None, 3, 10, 256)        0         \n",
      "_________________________________________________________________\n",
      "conv_pw_12 (Conv2D)          (None, 3, 10, 512)        131072    \n",
      "_________________________________________________________________\n",
      "conv_pw_12_bn (BatchNormaliz (None, 3, 10, 512)        2048      \n",
      "_________________________________________________________________\n",
      "conv_pw_12_relu (ReLU)       (None, 3, 10, 512)        0         \n",
      "_________________________________________________________________\n",
      "conv_dw_13 (DepthwiseConv2D) (None, 3, 10, 512)        4608      \n",
      "_________________________________________________________________\n",
      "conv_dw_13_bn (BatchNormaliz (None, 3, 10, 512)        2048      \n",
      "_________________________________________________________________\n",
      "conv_dw_13_relu (ReLU)       (None, 3, 10, 512)        0         \n",
      "_________________________________________________________________\n",
      "conv_pw_13 (Conv2D)          (None, 3, 10, 512)        262144    \n",
      "_________________________________________________________________\n",
      "conv_pw_13_bn (BatchNormaliz (None, 3, 10, 512)        2048      \n",
      "_________________________________________________________________\n",
      "conv_pw_13_relu (ReLU)       (None, 3, 10, 512)        0         \n",
      "=================================================================\n",
      "Total params: 829,536\n",
      "Trainable params: 818,592\n",
      "Non-trainable params: 10,944\n",
      "_________________________________________________________________\n"
     ]
    }
   ],
   "source": [
    "mobilenet.summary()"
   ]
  },
  {
   "cell_type": "code",
   "execution_count": null,
   "metadata": {
    "colab": {
     "base_uri": "https://localhost:8080/",
     "height": 34
    },
    "id": "63HBcG2vuGJZ",
    "outputId": "0f0b486e-e264-46f3-aa85-8769c7f709b2"
   },
   "outputs": [
    {
     "data": {
      "text/plain": [
       "87"
      ]
     },
     "execution_count": 32,
     "metadata": {
      "tags": []
     },
     "output_type": "execute_result"
    }
   ],
   "source": [
    "#Number of layers in Mobilenet\n",
    "len(mobilenet.layers)"
   ]
  },
  {
   "cell_type": "code",
   "execution_count": null,
   "metadata": {
    "id": "B_1PqDcruNGp"
   },
   "outputs": [],
   "source": [
    "#Lets' freeze all but last 15 layers\n",
    "for layer in mobilenet.layers[:72]:\n",
    "    layer.trainable=False"
   ]
  },
  {
   "cell_type": "code",
   "execution_count": null,
   "metadata": {
    "colab": {
     "base_uri": "https://localhost:8080/",
     "height": 1000
    },
    "id": "J4wu1qFyukWR",
    "outputId": "8bbb87b3-ea2f-44ab-ac6a-fe1b42082bb7"
   },
   "outputs": [
    {
     "name": "stdout",
     "output_type": "stream",
     "text": [
      "Model: \"mobilenet_0.50_224\"\n",
      "_________________________________________________________________\n",
      "Layer (type)                 Output Shape              Param #   \n",
      "=================================================================\n",
      "input_1 (InputLayer)         [(None, 100, 330, 3)]     0         \n",
      "_________________________________________________________________\n",
      "conv1_pad (ZeroPadding2D)    (None, 101, 331, 3)       0         \n",
      "_________________________________________________________________\n",
      "conv1 (Conv2D)               (None, 50, 165, 16)       432       \n",
      "_________________________________________________________________\n",
      "conv1_bn (BatchNormalization (None, 50, 165, 16)       64        \n",
      "_________________________________________________________________\n",
      "conv1_relu (ReLU)            (None, 50, 165, 16)       0         \n",
      "_________________________________________________________________\n",
      "conv_dw_1 (DepthwiseConv2D)  (None, 50, 165, 16)       144       \n",
      "_________________________________________________________________\n",
      "conv_dw_1_bn (BatchNormaliza (None, 50, 165, 16)       64        \n",
      "_________________________________________________________________\n",
      "conv_dw_1_relu (ReLU)        (None, 50, 165, 16)       0         \n",
      "_________________________________________________________________\n",
      "conv_pw_1 (Conv2D)           (None, 50, 165, 32)       512       \n",
      "_________________________________________________________________\n",
      "conv_pw_1_bn (BatchNormaliza (None, 50, 165, 32)       128       \n",
      "_________________________________________________________________\n",
      "conv_pw_1_relu (ReLU)        (None, 50, 165, 32)       0         \n",
      "_________________________________________________________________\n",
      "conv_pad_2 (ZeroPadding2D)   (None, 51, 166, 32)       0         \n",
      "_________________________________________________________________\n",
      "conv_dw_2 (DepthwiseConv2D)  (None, 25, 82, 32)        288       \n",
      "_________________________________________________________________\n",
      "conv_dw_2_bn (BatchNormaliza (None, 25, 82, 32)        128       \n",
      "_________________________________________________________________\n",
      "conv_dw_2_relu (ReLU)        (None, 25, 82, 32)        0         \n",
      "_________________________________________________________________\n",
      "conv_pw_2 (Conv2D)           (None, 25, 82, 64)        2048      \n",
      "_________________________________________________________________\n",
      "conv_pw_2_bn (BatchNormaliza (None, 25, 82, 64)        256       \n",
      "_________________________________________________________________\n",
      "conv_pw_2_relu (ReLU)        (None, 25, 82, 64)        0         \n",
      "_________________________________________________________________\n",
      "conv_dw_3 (DepthwiseConv2D)  (None, 25, 82, 64)        576       \n",
      "_________________________________________________________________\n",
      "conv_dw_3_bn (BatchNormaliza (None, 25, 82, 64)        256       \n",
      "_________________________________________________________________\n",
      "conv_dw_3_relu (ReLU)        (None, 25, 82, 64)        0         \n",
      "_________________________________________________________________\n",
      "conv_pw_3 (Conv2D)           (None, 25, 82, 64)        4096      \n",
      "_________________________________________________________________\n",
      "conv_pw_3_bn (BatchNormaliza (None, 25, 82, 64)        256       \n",
      "_________________________________________________________________\n",
      "conv_pw_3_relu (ReLU)        (None, 25, 82, 64)        0         \n",
      "_________________________________________________________________\n",
      "conv_pad_4 (ZeroPadding2D)   (None, 26, 83, 64)        0         \n",
      "_________________________________________________________________\n",
      "conv_dw_4 (DepthwiseConv2D)  (None, 12, 41, 64)        576       \n",
      "_________________________________________________________________\n",
      "conv_dw_4_bn (BatchNormaliza (None, 12, 41, 64)        256       \n",
      "_________________________________________________________________\n",
      "conv_dw_4_relu (ReLU)        (None, 12, 41, 64)        0         \n",
      "_________________________________________________________________\n",
      "conv_pw_4 (Conv2D)           (None, 12, 41, 128)       8192      \n",
      "_________________________________________________________________\n",
      "conv_pw_4_bn (BatchNormaliza (None, 12, 41, 128)       512       \n",
      "_________________________________________________________________\n",
      "conv_pw_4_relu (ReLU)        (None, 12, 41, 128)       0         \n",
      "_________________________________________________________________\n",
      "conv_dw_5 (DepthwiseConv2D)  (None, 12, 41, 128)       1152      \n",
      "_________________________________________________________________\n",
      "conv_dw_5_bn (BatchNormaliza (None, 12, 41, 128)       512       \n",
      "_________________________________________________________________\n",
      "conv_dw_5_relu (ReLU)        (None, 12, 41, 128)       0         \n",
      "_________________________________________________________________\n",
      "conv_pw_5 (Conv2D)           (None, 12, 41, 128)       16384     \n",
      "_________________________________________________________________\n",
      "conv_pw_5_bn (BatchNormaliza (None, 12, 41, 128)       512       \n",
      "_________________________________________________________________\n",
      "conv_pw_5_relu (ReLU)        (None, 12, 41, 128)       0         \n",
      "_________________________________________________________________\n",
      "conv_pad_6 (ZeroPadding2D)   (None, 13, 42, 128)       0         \n",
      "_________________________________________________________________\n",
      "conv_dw_6 (DepthwiseConv2D)  (None, 6, 20, 128)        1152      \n",
      "_________________________________________________________________\n",
      "conv_dw_6_bn (BatchNormaliza (None, 6, 20, 128)        512       \n",
      "_________________________________________________________________\n",
      "conv_dw_6_relu (ReLU)        (None, 6, 20, 128)        0         \n",
      "_________________________________________________________________\n",
      "conv_pw_6 (Conv2D)           (None, 6, 20, 256)        32768     \n",
      "_________________________________________________________________\n",
      "conv_pw_6_bn (BatchNormaliza (None, 6, 20, 256)        1024      \n",
      "_________________________________________________________________\n",
      "conv_pw_6_relu (ReLU)        (None, 6, 20, 256)        0         \n",
      "_________________________________________________________________\n",
      "conv_dw_7 (DepthwiseConv2D)  (None, 6, 20, 256)        2304      \n",
      "_________________________________________________________________\n",
      "conv_dw_7_bn (BatchNormaliza (None, 6, 20, 256)        1024      \n",
      "_________________________________________________________________\n",
      "conv_dw_7_relu (ReLU)        (None, 6, 20, 256)        0         \n",
      "_________________________________________________________________\n",
      "conv_pw_7 (Conv2D)           (None, 6, 20, 256)        65536     \n",
      "_________________________________________________________________\n",
      "conv_pw_7_bn (BatchNormaliza (None, 6, 20, 256)        1024      \n",
      "_________________________________________________________________\n",
      "conv_pw_7_relu (ReLU)        (None, 6, 20, 256)        0         \n",
      "_________________________________________________________________\n",
      "conv_dw_8 (DepthwiseConv2D)  (None, 6, 20, 256)        2304      \n",
      "_________________________________________________________________\n",
      "conv_dw_8_bn (BatchNormaliza (None, 6, 20, 256)        1024      \n",
      "_________________________________________________________________\n",
      "conv_dw_8_relu (ReLU)        (None, 6, 20, 256)        0         \n",
      "_________________________________________________________________\n",
      "conv_pw_8 (Conv2D)           (None, 6, 20, 256)        65536     \n",
      "_________________________________________________________________\n",
      "conv_pw_8_bn (BatchNormaliza (None, 6, 20, 256)        1024      \n",
      "_________________________________________________________________\n",
      "conv_pw_8_relu (ReLU)        (None, 6, 20, 256)        0         \n",
      "_________________________________________________________________\n",
      "conv_dw_9 (DepthwiseConv2D)  (None, 6, 20, 256)        2304      \n",
      "_________________________________________________________________\n",
      "conv_dw_9_bn (BatchNormaliza (None, 6, 20, 256)        1024      \n",
      "_________________________________________________________________\n",
      "conv_dw_9_relu (ReLU)        (None, 6, 20, 256)        0         \n",
      "_________________________________________________________________\n",
      "conv_pw_9 (Conv2D)           (None, 6, 20, 256)        65536     \n",
      "_________________________________________________________________\n",
      "conv_pw_9_bn (BatchNormaliza (None, 6, 20, 256)        1024      \n",
      "_________________________________________________________________\n",
      "conv_pw_9_relu (ReLU)        (None, 6, 20, 256)        0         \n",
      "_________________________________________________________________\n",
      "conv_dw_10 (DepthwiseConv2D) (None, 6, 20, 256)        2304      \n",
      "_________________________________________________________________\n",
      "conv_dw_10_bn (BatchNormaliz (None, 6, 20, 256)        1024      \n",
      "_________________________________________________________________\n",
      "conv_dw_10_relu (ReLU)       (None, 6, 20, 256)        0         \n",
      "_________________________________________________________________\n",
      "conv_pw_10 (Conv2D)          (None, 6, 20, 256)        65536     \n",
      "_________________________________________________________________\n",
      "conv_pw_10_bn (BatchNormaliz (None, 6, 20, 256)        1024      \n",
      "_________________________________________________________________\n",
      "conv_pw_10_relu (ReLU)       (None, 6, 20, 256)        0         \n",
      "_________________________________________________________________\n",
      "conv_dw_11 (DepthwiseConv2D) (None, 6, 20, 256)        2304      \n",
      "_________________________________________________________________\n",
      "conv_dw_11_bn (BatchNormaliz (None, 6, 20, 256)        1024      \n",
      "_________________________________________________________________\n",
      "conv_dw_11_relu (ReLU)       (None, 6, 20, 256)        0         \n",
      "_________________________________________________________________\n",
      "conv_pw_11 (Conv2D)          (None, 6, 20, 256)        65536     \n",
      "_________________________________________________________________\n",
      "conv_pw_11_bn (BatchNormaliz (None, 6, 20, 256)        1024      \n",
      "_________________________________________________________________\n",
      "conv_pw_11_relu (ReLU)       (None, 6, 20, 256)        0         \n",
      "_________________________________________________________________\n",
      "conv_pad_12 (ZeroPadding2D)  (None, 7, 21, 256)        0         \n",
      "_________________________________________________________________\n",
      "conv_dw_12 (DepthwiseConv2D) (None, 3, 10, 256)        2304      \n",
      "_________________________________________________________________\n",
      "conv_dw_12_bn (BatchNormaliz (None, 3, 10, 256)        1024      \n",
      "_________________________________________________________________\n",
      "conv_dw_12_relu (ReLU)       (None, 3, 10, 256)        0         \n",
      "_________________________________________________________________\n",
      "conv_pw_12 (Conv2D)          (None, 3, 10, 512)        131072    \n",
      "_________________________________________________________________\n",
      "conv_pw_12_bn (BatchNormaliz (None, 3, 10, 512)        2048      \n",
      "_________________________________________________________________\n",
      "conv_pw_12_relu (ReLU)       (None, 3, 10, 512)        0         \n",
      "_________________________________________________________________\n",
      "conv_dw_13 (DepthwiseConv2D) (None, 3, 10, 512)        4608      \n",
      "_________________________________________________________________\n",
      "conv_dw_13_bn (BatchNormaliz (None, 3, 10, 512)        2048      \n",
      "_________________________________________________________________\n",
      "conv_dw_13_relu (ReLU)       (None, 3, 10, 512)        0         \n",
      "_________________________________________________________________\n",
      "conv_pw_13 (Conv2D)          (None, 3, 10, 512)        262144    \n",
      "_________________________________________________________________\n",
      "conv_pw_13_bn (BatchNormaliz (None, 3, 10, 512)        2048      \n",
      "_________________________________________________________________\n",
      "conv_pw_13_relu (ReLU)       (None, 3, 10, 512)        0         \n",
      "=================================================================\n",
      "Total params: 829,536\n",
      "Trainable params: 404,224\n",
      "Non-trainable params: 425,312\n",
      "_________________________________________________________________\n"
     ]
    }
   ],
   "source": [
    "mobilenet.summary()"
   ]
  },
  {
   "cell_type": "markdown",
   "metadata": {
    "id": "XSccHAlwgVB4"
   },
   "source": [
    "Build a Siamese Network using Mobilenet as feature generator"
   ]
  },
  {
   "cell_type": "code",
   "execution_count": null,
   "metadata": {
    "id": "mP7OWcFTgbl1"
   },
   "outputs": [],
   "source": [
    "#Create two input layers - first and second image\n",
    "first_input = tf.keras.layers.Input(shape=(img_height, img_width,3))\n",
    "second_input = tf.keras.layers.Input(shape=(img_height, img_width,3))"
   ]
  },
  {
   "cell_type": "code",
   "execution_count": null,
   "metadata": {
    "id": "qexPPs_Ugrrd"
   },
   "outputs": [],
   "source": [
    "#Generate features for first and second image\n",
    "first_img_features = mobilenet(first_input)\n",
    "second_img_features = mobilenet(second_input)"
   ]
  },
  {
   "cell_type": "code",
   "execution_count": null,
   "metadata": {
    "colab": {
     "base_uri": "https://localhost:8080/",
     "height": 34
    },
    "id": "e952as6rgr4A",
    "outputId": "ada9a1d1-d389-40bc-999d-04b9c7ef5a31"
   },
   "outputs": [
    {
     "data": {
      "text/plain": [
       "<tf.Tensor 'mobilenet_0.50_224/Identity:0' shape=(None, 3, 10, 512) dtype=float32>"
      ]
     },
     "execution_count": 37,
     "metadata": {
      "tags": []
     },
     "output_type": "execute_result"
    }
   ],
   "source": [
    "#Size of the outputs\n",
    "first_img_features"
   ]
  },
  {
   "cell_type": "code",
   "execution_count": null,
   "metadata": {
    "id": "1_gjhK_Qjqmc"
   },
   "outputs": [],
   "source": [
    "#Lets flatten the features using Average pooling\n",
    "gap_layer = tf.keras.layers.GlobalAveragePooling2D()\n",
    "\n",
    "#First img features\n",
    "first_img_features = gap_layer(first_img_features)\n",
    "#Second image features\n",
    "second_img_features = gap_layer(second_img_features)"
   ]
  },
  {
   "cell_type": "markdown",
   "metadata": {
    "id": "pFIcFINMkLu-"
   },
   "source": [
    "We want to calculate Euclidean distance between two feature set. As there is no pre-built Euclidean distance layer in Keras, we will build one."
   ]
  },
  {
   "cell_type": "code",
   "execution_count": null,
   "metadata": {
    "id": "T8yA71drkGvK"
   },
   "outputs": [],
   "source": [
    "def euclidean_distance(features):\n",
    "    \n",
    "    #Get features\n",
    "    x, y = features\n",
    "\n",
    "    #Calculate distance\n",
    "    distance = tf.keras.backend.sqrt(tf.keras.backend.sum(tf.keras.backend.square(x - y), axis=1, keepdims=True))\n",
    "    \n",
    "    return distance"
   ]
  },
  {
   "cell_type": "markdown",
   "metadata": {
    "id": "Poz-43lWk-3R"
   },
   "source": [
    "We will also need a function to define output shape of Euclidean distance layer"
   ]
  },
  {
   "cell_type": "code",
   "execution_count": null,
   "metadata": {
    "id": "wG1XWOH5k40X"
   },
   "outputs": [],
   "source": [
    "def eucl_dist_output_shape(shapes):\n",
    "\n",
    "    #Shapes of feature 1 and 2\n",
    "    shape1, shape2 = shapes\n",
    "    \n",
    "    #Returned shape is equal to number of examples, 1\n",
    "    return (shape1[0], 1)"
   ]
  },
  {
   "cell_type": "markdown",
   "metadata": {
    "id": "Rn5HLsZ-lHP7"
   },
   "source": [
    "Use Eucledean distance layer on features"
   ]
  },
  {
   "cell_type": "code",
   "execution_count": null,
   "metadata": {
    "id": "YIOuH3m5lMrM"
   },
   "outputs": [],
   "source": [
    "distance = tf.keras.layers.Lambda(euclidean_distance, output_shape=eucl_dist_output_shape)([first_img_features, second_img_features])"
   ]
  },
  {
   "cell_type": "markdown",
   "metadata": {
    "id": "zT6-P307l5Dc"
   },
   "source": [
    "Build model"
   ]
  },
  {
   "cell_type": "code",
   "execution_count": null,
   "metadata": {
    "id": "5-779UAgl3-N"
   },
   "outputs": [],
   "source": [
    "model = tf.keras.Model([first_input, second_input], distance)"
   ]
  },
  {
   "cell_type": "code",
   "execution_count": null,
   "metadata": {
    "colab": {
     "base_uri": "https://localhost:8080/",
     "height": 380
    },
    "id": "mL1CvCg3ith_",
    "outputId": "cb161340-4c52-49f9-a35c-2867be5fd14f"
   },
   "outputs": [
    {
     "name": "stdout",
     "output_type": "stream",
     "text": [
      "Model: \"model\"\n",
      "__________________________________________________________________________________________________\n",
      "Layer (type)                    Output Shape         Param #     Connected to                     \n",
      "==================================================================================================\n",
      "input_2 (InputLayer)            [(None, 100, 330, 3) 0                                            \n",
      "__________________________________________________________________________________________________\n",
      "input_3 (InputLayer)            [(None, 100, 330, 3) 0                                            \n",
      "__________________________________________________________________________________________________\n",
      "mobilenet_0.50_224 (Model)      (None, 3, 10, 512)   829536      input_2[0][0]                    \n",
      "                                                                 input_3[0][0]                    \n",
      "__________________________________________________________________________________________________\n",
      "global_average_pooling2d (Globa (None, 512)          0           mobilenet_0.50_224[1][0]         \n",
      "                                                                 mobilenet_0.50_224[2][0]         \n",
      "__________________________________________________________________________________________________\n",
      "lambda (Lambda)                 (None, 1)            0           global_average_pooling2d[0][0]   \n",
      "                                                                 global_average_pooling2d[1][0]   \n",
      "==================================================================================================\n",
      "Total params: 829,536\n",
      "Trainable params: 404,224\n",
      "Non-trainable params: 425,312\n",
      "__________________________________________________________________________________________________\n"
     ]
    }
   ],
   "source": [
    "model.summary()"
   ]
  },
  {
   "cell_type": "markdown",
   "metadata": {
    "id": "2GQD86eEmHkm"
   },
   "source": [
    "How do we calculate loss for Siamese network?"
   ]
  },
  {
   "cell_type": "code",
   "execution_count": null,
   "metadata": {
    "id": "YZogiZ3UnWFf"
   },
   "outputs": [],
   "source": [
    "def contrastive_loss(y_true, y_pred):\n",
    "\n",
    "    \"\"\"\n",
    "    y_pred : Eucledean distance for each pair of images\n",
    "    y_true : 1 for Genuine-genuine pair, 0 otherwise\n",
    "    \n",
    "    Contrastive loss from Hadsell-et-al.'06\n",
    "    Source: http://yann.lecun.com/exdb/publis/pdf/hadsell-chopra-lecun-06.pdf\n",
    "    \n",
    "    Explanation:\n",
    "    When ytrue is 1, that means the sample are duplicates of each other, \n",
    "    so the Euclidean distance (ypred) between their outputs must be minimized.\n",
    "    So the loss is taken as the square of that Euclidean distance itself - square(y_pred).\n",
    "\n",
    "    When ytrue is 0, i.e. the samples are not duplicates, then the Euclidean distance \n",
    "    between them must be maximized, at least to the margin. So the loss to be minimized\n",
    "    is the difference of the margin and the Euclidean distance - (margin - y_pred).\n",
    "    If the Euclidean distance (ypred) is already greater than the margin, \n",
    "    then nothing is to be learned, so the loss is made to be zero in \n",
    "    that case by saying maximum(margin - y_pred, 0).\n",
    "    \"\"\"\n",
    "\n",
    "    margin = 1\n",
    "\n",
    "    #Loss when pairs are genuine-genuine\n",
    "    positive_loss = tf.keras.backend.square(y_pred)\n",
    "    \n",
    "    #Loss when pairs are genuine-fake\n",
    "    negative_loss = tf.keras.backend.square(tf.keras.backend.maximum(margin - y_pred, 0))\n",
    "\n",
    "    #Total loss\n",
    "    total_loss = y_true * positive_loss + (1 - y_true) * negative_loss\n",
    "    \n",
    "    #Calculate average loss\n",
    "    total_average_loss = tf.keras.backend.mean(total_loss)\n",
    "\n",
    "    return total_average_loss"
   ]
  },
  {
   "cell_type": "markdown",
   "metadata": {
    "id": "QoXmEpF2nlgS"
   },
   "source": [
    "Compile the model with optimizer and loss"
   ]
  },
  {
   "cell_type": "code",
   "execution_count": null,
   "metadata": {
    "id": "UXA8T8ONnnzv"
   },
   "outputs": [],
   "source": [
    "model.compile(optimizer='adam', loss=contrastive_loss)"
   ]
  },
  {
   "cell_type": "code",
   "execution_count": null,
   "metadata": {
    "colab": {
     "base_uri": "https://localhost:8080/",
     "height": 380
    },
    "id": "w9BEs2VpnyEX",
    "outputId": "f7d6dee3-3a99-4710-d82a-68758e6a832a"
   },
   "outputs": [
    {
     "name": "stdout",
     "output_type": "stream",
     "text": [
      "Model: \"model\"\n",
      "__________________________________________________________________________________________________\n",
      "Layer (type)                    Output Shape         Param #     Connected to                     \n",
      "==================================================================================================\n",
      "input_2 (InputLayer)            [(None, 100, 330, 3) 0                                            \n",
      "__________________________________________________________________________________________________\n",
      "input_3 (InputLayer)            [(None, 100, 330, 3) 0                                            \n",
      "__________________________________________________________________________________________________\n",
      "mobilenet_0.50_224 (Model)      (None, 3, 10, 512)   829536      input_2[0][0]                    \n",
      "                                                                 input_3[0][0]                    \n",
      "__________________________________________________________________________________________________\n",
      "global_average_pooling2d (Globa (None, 512)          0           mobilenet_0.50_224[1][0]         \n",
      "                                                                 mobilenet_0.50_224[2][0]         \n",
      "__________________________________________________________________________________________________\n",
      "lambda (Lambda)                 (None, 1)            0           global_average_pooling2d[0][0]   \n",
      "                                                                 global_average_pooling2d[1][0]   \n",
      "==================================================================================================\n",
      "Total params: 829,536\n",
      "Trainable params: 404,224\n",
      "Non-trainable params: 425,312\n",
      "__________________________________________________________________________________________________\n"
     ]
    }
   ],
   "source": [
    "model.summary()"
   ]
  },
  {
   "cell_type": "markdown",
   "metadata": {
    "id": "zctr-X7Sn2wv"
   },
   "source": [
    "#### Train Model"
   ]
  },
  {
   "cell_type": "code",
   "execution_count": null,
   "metadata": {
    "id": "kkA103s-oMSh"
   },
   "outputs": [],
   "source": [
    "#Total training and test examples\n",
    "total_train_examples = len(train_g_g_pairs) + len(train_g_f_pairs)\n",
    "total_test_examples = len(test_g_g_pairs) + len(test_g_f_pairs)"
   ]
  },
  {
   "cell_type": "code",
   "execution_count": null,
   "metadata": {
    "colab": {
     "base_uri": "https://localhost:8080/",
     "height": 34
    },
    "id": "nNnPEhlpOqAR",
    "outputId": "6f00d4a3-c96d-46de-ec0b-cc6bdbb8b29b"
   },
   "outputs": [
    {
     "data": {
      "text/plain": [
       "(72192, 18048)"
      ]
     },
     "execution_count": 49,
     "metadata": {
      "tags": []
     },
     "output_type": "execute_result"
    }
   ],
   "source": [
    "total_train_examples, total_test_examples"
   ]
  },
  {
   "cell_type": "code",
   "execution_count": null,
   "metadata": {
    "id": "pnLvtqe9n1Bv"
   },
   "outputs": [],
   "source": [
    "#Create Train and Test batch generators\n",
    "batch_size = 128\n",
    "train_generator = batch_generator(train_g_g_pairs, train_g_f_pairs, batch_size=batch_size)\n",
    "test_generator = batch_generator(test_g_g_pairs, test_g_f_pairs, batch_size=batch_size)"
   ]
  },
  {
   "cell_type": "code",
   "execution_count": null,
   "metadata": {
    "id": "qxwqkUi8pG_f"
   },
   "outputs": [],
   "source": [
    "#Model checkpoint to save the best model\n",
    "model_ckpt = tf.keras.callbacks.ModelCheckpoint('signature_siamese.h5', \n",
    "                                                save_best_only=True, \n",
    "                                                monitor='val_loss',\n",
    "                                                verbose=1)"
   ]
  },
  {
   "cell_type": "code",
   "execution_count": null,
   "metadata": {
    "id": "jrV-3h8FoZ_k"
   },
   "outputs": [],
   "source": [
    "#Start training\n",
    "model.fit(train_generator,\n",
    "          epochs=1,\n",
    "          steps_per_epoch=total_train_examples//batch_size, \n",
    "          validation_data=test_generator, \n",
    "          validation_steps=total_test_examples//batch_size, \n",
    "          callbacks=[model_ckpt])"
   ]
  },
  {
   "cell_type": "markdown",
   "metadata": {
    "id": "4xXYjsMUAy7y"
   },
   "source": [
    "#### Save Model"
   ]
  },
  {
   "cell_type": "code",
   "execution_count": null,
   "metadata": {
    "id": "UsJ5o5gvAfzL"
   },
   "outputs": [],
   "source": [
    "#Connect to Google drive\n",
    "from google.colab import drive\n",
    "drive.mount('/gdrive')"
   ]
  },
  {
   "cell_type": "code",
   "execution_count": null,
   "metadata": {
    "id": "Bm4dSAOs_8iS"
   },
   "outputs": [],
   "source": [
    "#Save model - change path to whatever you want\n",
    "save_path = '<save_path>'\n",
    "model.save(save_path)"
   ]
  },
  {
   "cell_type": "code",
   "execution_count": null,
   "metadata": {
    "id": "keMTaG-lA3M0"
   },
   "outputs": [],
   "source": [
    "#Load model\n",
    "model = tf.keras.models.load_model(save_path, custom_objects={'contrastive_loss':contrastive_loss})"
   ]
  },
  {
   "cell_type": "code",
   "execution_count": null,
   "metadata": {
    "id": "fxsbC7iJBwEJ"
   },
   "outputs": [],
   "source": [
    "#Make sure model has loaded\n",
    "model.summary()"
   ]
  },
  {
   "cell_type": "markdown",
   "metadata": {
    "id": "X28jYq8NqkmF"
   },
   "source": [
    "#### Model Accuracy"
   ]
  },
  {
   "cell_type": "markdown",
   "metadata": {
    "id": "QTlVj7zp7o02"
   },
   "source": [
    "Calculate prediction for all test examples"
   ]
  },
  {
   "cell_type": "code",
   "execution_count": null,
   "metadata": {
    "id": "aYh7abc2vcuD"
   },
   "outputs": [],
   "source": [
    "#Build predictions\n",
    "predictions = []\n",
    "true_labels = []"
   ]
  },
  {
   "cell_type": "code",
   "execution_count": null,
   "metadata": {
    "id": "3ho03lUb8q5S"
   },
   "outputs": [],
   "source": [
    "for i in tqdm(range(total_test_examples//batch_size)):\n",
    "\n",
    "    #Get batch\n",
    "    X, y = next(test_generator)\n",
    "    #Model predictions\n",
    "    distances = model.predict(X)\n",
    "\n",
    "    #Capture it in the labels and predictions list\n",
    "    for j in range(y.shape[0]):\n",
    "        true_labels.append(int(y[j][0]))\n",
    "        predictions.append(distances[j][0])"
   ]
  },
  {
   "cell_type": "code",
   "execution_count": null,
   "metadata": {
    "id": "VaSN7S47-K0B"
   },
   "outputs": [],
   "source": [
    "len(predictions), len(true_labels)"
   ]
  },
  {
   "cell_type": "markdown",
   "metadata": {
    "id": "DPH3Dx2NqnpV"
   },
   "source": [
    "How do we calculate a **threhold** above which images will be considered as genuine-forged pair?\n",
    "\n",
    "*We can check at which distance, test accuracy is highest and consider that as a threhold.*"
   ]
  },
  {
   "cell_type": "code",
   "execution_count": null,
   "metadata": {
    "id": "CZPIyYydqnCO"
   },
   "outputs": [],
   "source": [
    "def compute_accuracy_thresh(predictions, labels):\n",
    "    \n",
    "    \"\"\"\n",
    "    Compute accuracy with a range of thresholds on distances.\n",
    "    \"\"\"\n",
    "\n",
    "    #Get maximum and minimum value of distance for test examples\n",
    "    dmax = np.max(predictions)\n",
    "    dmin = np.min(predictions)\n",
    "\n",
    "    #How many pairs are genuine-genuine and how many are genuine-forged in test data\n",
    "    n_gg_pairs = np.sum(labels == 1)\n",
    "    n_gf_pairs = np.sum(labels == 0)\n",
    "    \n",
    "    #We will increment threhold by\n",
    "    step = 0.01\n",
    "\n",
    "    #Initialize Accuracy and threshold\n",
    "    max_acc = 0\n",
    "    best_thresh = -1\n",
    "\n",
    "    #Run through a look increasing threshold by step amount and checking accuracy   \n",
    "    for d in np.arange(dmin, dmax+step, step):\n",
    "\n",
    "        #Test examples for which predicted distance was less than or equal to d (threshold)\n",
    "        #These can be taken as genuine-genuine pairs (for given threshold)\n",
    "        idx1 = predictions.ravel() <= d\n",
    "        \n",
    "        #Test examples for which predicted distance > d (genuine-forged pairs)\n",
    "        idx2 = predictions.ravel() > d\n",
    "       \n",
    "        #How many positive examples are correct\n",
    "        true_positive_rate = float(np.sum(labels[idx1] == 1)) / n_gg_pairs   \n",
    "        true_negative_rate = float(np.sum(labels[idx2] == 0)) / n_gf_pairs\n",
    "        \n",
    "        #Accuracy - avg of above two terms\n",
    "        acc = (true_positive_rate + true_negative_rate)/2       \n",
    "\n",
    "        #If accuracy improved from previous best, make a note of it    \n",
    "        if (acc > max_acc):\n",
    "            max_acc, best_thresh = acc, d\n",
    "           \n",
    "    return max_acc, best_thresh"
   ]
  },
  {
   "cell_type": "markdown",
   "metadata": {
    "id": "XQSVNodYwaEB"
   },
   "source": [
    "Calculate best threshold and accuracy"
   ]
  },
  {
   "cell_type": "code",
   "execution_count": null,
   "metadata": {
    "id": "H61woxSCuxKi"
   },
   "outputs": [],
   "source": [
    "test_acc, threshold = compute_accuracy_thresh(np.array(predictions), np.array(true_labels))\n",
    "print('Test accuracy:', round(test_acc,2))\n",
    "print('Best distance threshold:', round(threshold,2))"
   ]
  },
  {
   "cell_type": "markdown",
   "metadata": {
    "id": "_4c__eXSxXNW"
   },
   "source": [
    "#### Visualize Model Prediction"
   ]
  },
  {
   "cell_type": "markdown",
   "metadata": {
    "id": "z7KK2FTWHcv7"
   },
   "source": [
    "During Training:\n",
    "\n",
    "1. Load Image\n",
    "2. Resize Image\n",
    "3. Convert it into Numpy array\n",
    "4. Image Augmentation\n",
    "        - Rotate, Scale, shear, flip, add Noise, Translate etc\n",
    "5. (Transfer Learning) - Normalize your image array\n",
    "\n",
    "During Prediction:\n",
    "\n",
    "1. Load Image\n",
    "2. Resize Image\n",
    "3. Convert it into Numpy array\n",
    "4. (Transfer Learning) - Normalize your image array"
   ]
  },
  {
   "cell_type": "code",
   "execution_count": null,
   "metadata": {
    "id": "z1bRPdtlxaw7"
   },
   "outputs": [],
   "source": [
    "def visualize_prediction(img_pairs, label):\n",
    "\n",
    "    #Load images\n",
    "    first_img = tf.keras.preprocessing.image.load_img(img_pairs[0], target_size=(img_height, img_width))\n",
    "    second_img = tf.keras.preprocessing.image.load_img(img_pairs[1], target_size=(img_height, img_width))\n",
    "    \n",
    "    #Convert to array\n",
    "    first_img_array = tf.keras.preprocessing.image.img_to_array(first_img)\n",
    "    second_img_array = tf.keras.preprocessing.image.img_to_array(second_img)\n",
    "\n",
    "    #Convert to a batch\n",
    "    first_img_array = np.expand_dims(first_img_array, axis=0)\n",
    "    second_img_array = np.expand_dims(second_img_array, axis=0)\n",
    "\n",
    "    #Normalize data\n",
    "    first_img_array_norm = tf.keras.applications.mobilenet.preprocess_input(first_img_array)\n",
    "    second_img_array_norm = tf.keras.applications.mobilenet.preprocess_input(second_img_array)\n",
    "\n",
    "    #Model prediction - distance\n",
    "    distance = model.predict([first_img_array_norm, second_img_array_norm])\n",
    "    print(distance)\n",
    "\n",
    "    print('Actual label:', label)\n",
    "\n",
    "    if distance <= threshold:\n",
    "        print('Predicted label:', 'Same')\n",
    "    else:\n",
    "        print('Predicted label:', 'Different')\n",
    "    \n",
    "    fig, (ax1, ax2) = plt.subplots(1, 2, figsize = (10, 10))\n",
    "    ax1.imshow(plt.imread(img_pairs[0]), cmap='gray')\n",
    "    ax2.imshow(plt.imread(img_pairs[1]), cmap='gray')\n",
    "    plt.show()"
   ]
  },
  {
   "cell_type": "code",
   "execution_count": null,
   "metadata": {
    "id": "cHGCy1EEnWF8"
   },
   "outputs": [],
   "source": [
    "#Visualize for genuine-genuine pair\n",
    "idx = np.random.randint(0, len(test_g_g_pairs))\n",
    "visualize_prediction(test_g_g_pairs[idx], 'Same')"
   ]
  },
  {
   "cell_type": "code",
   "execution_count": null,
   "metadata": {
    "id": "cXWBvimJ0ZmM"
   },
   "outputs": [],
   "source": [
    "#Visualize for genuine-forged pair\n",
    "idx = np.random.randint(0, len(test_g_f_pairs))\n",
    "visualize_prediction(test_g_f_pairs[idx], 'Different')"
   ]
  }
 ],
 "metadata": {
  "accelerator": "GPU",
  "colab": {
   "collapsed_sections": [
    "4xXYjsMUAy7y",
    "X28jYq8NqkmF",
    "_4c__eXSxXNW"
   ],
   "provenance": []
  },
  "kernelspec": {
   "display_name": "Python 3 (ipykernel)",
   "language": "python",
   "name": "python3"
  },
  "language_info": {
   "codemirror_mode": {
    "name": "ipython",
    "version": 3
   },
   "file_extension": ".py",
   "mimetype": "text/x-python",
   "name": "python",
   "nbconvert_exporter": "python",
   "pygments_lexer": "ipython3",
   "version": "3.9.6"
  }
 },
 "nbformat": 4,
 "nbformat_minor": 1
}
